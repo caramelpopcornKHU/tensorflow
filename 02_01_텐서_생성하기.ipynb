{
  "nbformat": 4,
  "nbformat_minor": 0,
  "metadata": {
    "colab": {
      "provenance": [],
      "gpuType": "T4",
      "include_colab_link": true
    },
    "kernelspec": {
      "name": "python3",
      "display_name": "Python 3"
    },
    "language_info": {
      "name": "python"
    },
    "accelerator": "GPU"
  },
  "cells": [
    {
      "cell_type": "markdown",
      "metadata": {
        "id": "view-in-github",
        "colab_type": "text"
      },
      "source": [
        "<a href=\"https://colab.research.google.com/github/caramelpopcornKHU/tensorflow/blob/main/02_01_%ED%85%90%EC%84%9C_%EC%83%9D%EC%84%B1%ED%95%98%EA%B8%B0.ipynb\" target=\"_parent\"><img src=\"https://colab.research.google.com/assets/colab-badge.svg\" alt=\"Open In Colab\"/></a>"
      ]
    },
    {
      "cell_type": "code",
      "execution_count": null,
      "metadata": {
        "id": "2FfbPMTDvJGa"
      },
      "outputs": [],
      "source": [
        "import tensorflow as tf"
      ]
    },
    {
      "cell_type": "code",
      "source": [
        "!python3 --version\n"
      ],
      "metadata": {
        "colab": {
          "base_uri": "https://localhost:8080/"
        },
        "id": "X5aNBfmMfYh0",
        "outputId": "f9f09bd3-008b-4671-8b93-7ef30b7735b6"
      },
      "execution_count": null,
      "outputs": [
        {
          "output_type": "stream",
          "name": "stdout",
          "text": [
            "Python 3.11.13\n"
          ]
        }
      ]
    },
    {
      "cell_type": "code",
      "source": [
        "print(tf.config.list_physical_devices('GPU'))"
      ],
      "metadata": {
        "id": "_8ljsNScg6YW",
        "outputId": "61ea7715-8bd6-4c92-b32f-3206cc827fee",
        "colab": {
          "base_uri": "https://localhost:8080/"
        }
      },
      "execution_count": null,
      "outputs": [
        {
          "output_type": "stream",
          "name": "stdout",
          "text": [
            "[PhysicalDevice(name='/physical_device:GPU:0', device_type='GPU')]\n"
          ]
        }
      ]
    },
    {
      "cell_type": "code",
      "source": [
        "from google.colab import drive\n",
        "drive.mount('/content/drive')"
      ],
      "metadata": {
        "colab": {
          "base_uri": "https://localhost:8080/"
        },
        "id": "kBTofZWn9yOP",
        "outputId": "031a5205-ef48-423f-b78e-86d2a2991752"
      },
      "execution_count": null,
      "outputs": [
        {
          "output_type": "stream",
          "name": "stdout",
          "text": [
            "Mounted at /content/drive\n"
          ]
        }
      ]
    },
    {
      "cell_type": "code",
      "source": [
        "tensor = tf.constant([1, 2])\n",
        "tensor"
      ],
      "metadata": {
        "colab": {
          "base_uri": "https://localhost:8080/"
        },
        "id": "CPREP0Pj3yhn",
        "outputId": "bf12359c-da3f-4374-85ff-bd559351c45e"
      },
      "execution_count": null,
      "outputs": [
        {
          "output_type": "execute_result",
          "data": {
            "text/plain": [
              "<tf.Tensor: shape=(2,), dtype=int32, numpy=array([1, 2], dtype=int32)>"
            ]
          },
          "metadata": {},
          "execution_count": 5
        }
      ]
    },
    {
      "cell_type": "code",
      "source": [
        "print(f\"data type: {tensor.dtype}\")\n",
        "print(f\"number of dimensions: {tensor.ndim}\")\n",
        "print(f\"shape: {tensor.shape}\")"
      ],
      "metadata": {
        "colab": {
          "base_uri": "https://localhost:8080/"
        },
        "id": "OZ0vnuQp4FZo",
        "outputId": "f230f26b-5039-4b82-f0e8-8a3fd1e39598"
      },
      "execution_count": null,
      "outputs": [
        {
          "output_type": "stream",
          "name": "stdout",
          "text": [
            "data type: <dtype: 'int32'>\n",
            "number of dimensions: 1\n",
            "shape: (2,)\n"
          ]
        }
      ]
    },
    {
      "cell_type": "code",
      "source": [
        "tensor = tf.constant([1, 1.5])\n",
        "tensor.dtype"
      ],
      "metadata": {
        "colab": {
          "base_uri": "https://localhost:8080/"
        },
        "id": "Ct9lnFaB4tXO",
        "outputId": "87bd3072-500c-45f7-dcb9-e78858ae2c48"
      },
      "execution_count": null,
      "outputs": [
        {
          "output_type": "execute_result",
          "data": {
            "text/plain": [
              "tf.float32"
            ]
          },
          "metadata": {},
          "execution_count": 4
        }
      ]
    },
    {
      "cell_type": "markdown",
      "source": [
        "dtype을 설정해주지 않으면 자동으로 감지, dtype을 설정해주면 그것으로 됨"
      ],
      "metadata": {
        "id": "IcAEabpsCJBJ"
      }
    },
    {
      "cell_type": "code",
      "source": [
        "tensor = tf.constant([1, 2], dtype=tf.float16)\n",
        "tensor.dtype"
      ],
      "metadata": {
        "colab": {
          "base_uri": "https://localhost:8080/"
        },
        "id": "EmVnlIub5Du0",
        "outputId": "362186d0-9b66-4997-a64c-c3ba0a568470"
      },
      "execution_count": null,
      "outputs": [
        {
          "output_type": "execute_result",
          "data": {
            "text/plain": [
              "tf.float16"
            ]
          },
          "metadata": {},
          "execution_count": 7
        }
      ]
    },
    {
      "cell_type": "code",
      "source": [
        "import numpy as np\n",
        "\n",
        "tensor = tf.constant(\n",
        "    np.array([[1, 2], [3, 4]])\n",
        ")\n",
        "tensor"
      ],
      "metadata": {
        "colab": {
          "base_uri": "https://localhost:8080/"
        },
        "id": "9f9WyeNO6VGK",
        "outputId": "feeb15db-9933-4360-e33e-0b22e392ab84"
      },
      "execution_count": null,
      "outputs": [
        {
          "output_type": "execute_result",
          "data": {
            "text/plain": [
              "<tf.Tensor: shape=(2, 2), dtype=int64, numpy=\n",
              "array([[1, 2],\n",
              "       [3, 4]])>"
            ]
          },
          "metadata": {},
          "execution_count": 8
        }
      ]
    },
    {
      "cell_type": "code",
      "source": [
        "variable_tensor = tf.Variable([1, 2])\n",
        "variable_tensor"
      ],
      "metadata": {
        "colab": {
          "base_uri": "https://localhost:8080/"
        },
        "id": "gWWKKIgO6vTY",
        "outputId": "e21e307c-0ccb-4e99-8b38-50778f6f7f49"
      },
      "execution_count": null,
      "outputs": [
        {
          "output_type": "execute_result",
          "data": {
            "text/plain": [
              "<tf.Variable 'Variable:0' shape=(2,) dtype=int32, numpy=array([1, 2], dtype=int32)>"
            ]
          },
          "metadata": {},
          "execution_count": 9
        }
      ]
    },
    {
      "cell_type": "code",
      "source": [
        "variable_tensor = tf.Variable(\n",
        "    np.array([[1, 2], [3, 4]])\n",
        ")\n",
        "variable_tensor"
      ],
      "metadata": {
        "colab": {
          "base_uri": "https://localhost:8080/"
        },
        "id": "zQozkzvd7Ls6",
        "outputId": "96be6324-cc20-4f68-e518-87406d06d86c"
      },
      "execution_count": null,
      "outputs": [
        {
          "output_type": "execute_result",
          "data": {
            "text/plain": [
              "<tf.Variable 'Variable:0' shape=(2, 2) dtype=int64, numpy=\n",
              "array([[1, 2],\n",
              "       [3, 4]])>"
            ]
          },
          "metadata": {},
          "execution_count": 10
        }
      ]
    },
    {
      "cell_type": "code",
      "source": [
        "variable_tensor.assign(\n",
        "    [[4, 5], [6, 7]]\n",
        ")\n",
        "variable_tensor"
      ],
      "metadata": {
        "colab": {
          "base_uri": "https://localhost:8080/"
        },
        "id": "1ocUWLV37edh",
        "outputId": "d3bf43e7-b94f-4a90-dd91-e972be934bd9"
      },
      "execution_count": null,
      "outputs": [
        {
          "output_type": "execute_result",
          "data": {
            "text/plain": [
              "<tf.Variable 'Variable:0' shape=(2, 2) dtype=int64, numpy=\n",
              "array([[4, 5],\n",
              "       [6, 7]])>"
            ]
          },
          "metadata": {},
          "execution_count": 11
        }
      ]
    },
    {
      "cell_type": "markdown",
      "source": [
        "표준정규분포 난수 텐서"
      ],
      "metadata": {
        "id": "IpizHwnaDsXS"
      }
    },
    {
      "cell_type": "code",
      "source": [
        "tf.random.normal([3,3])"
      ],
      "metadata": {
        "id": "7DXeMzrb76Xy",
        "colab": {
          "base_uri": "https://localhost:8080/"
        },
        "outputId": "1d12f1ea-6172-4922-9bcb-44f3e668cf89"
      },
      "execution_count": null,
      "outputs": [
        {
          "output_type": "execute_result",
          "data": {
            "text/plain": [
              "<tf.Tensor: shape=(3, 3), dtype=float32, numpy=\n",
              "array([[ 1.1939218 , -1.1299673 , -0.21219793],\n",
              "       [-1.6194668 , -1.148304  , -0.9480288 ],\n",
              "       [ 0.73439586,  1.1533499 , -0.7385553 ]], dtype=float32)>"
            ]
          },
          "metadata": {},
          "execution_count": 14
        }
      ]
    },
    {
      "cell_type": "code",
      "source": [
        "tf.random.normal([2,3],mean=3,stddev=2)"
      ],
      "metadata": {
        "colab": {
          "base_uri": "https://localhost:8080/"
        },
        "id": "tUIqLaFqDjqx",
        "outputId": "208cc444-877e-485d-9787-cca14daae343"
      },
      "execution_count": null,
      "outputs": [
        {
          "output_type": "execute_result",
          "data": {
            "text/plain": [
              "<tf.Tensor: shape=(2, 3), dtype=float32, numpy=\n",
              "array([[ 5.2250876 ,  3.6995604 , -0.20966935],\n",
              "       [ 1.0065567 ,  3.2205925 ,  3.0883653 ]], dtype=float32)>"
            ]
          },
          "metadata": {},
          "execution_count": 15
        }
      ]
    },
    {
      "cell_type": "markdown",
      "source": [
        "uniform distribution"
      ],
      "metadata": {
        "id": "80orahCSECqy"
      }
    },
    {
      "cell_type": "code",
      "source": [
        "tf.random.uniform([2,2,3,4])"
      ],
      "metadata": {
        "colab": {
          "base_uri": "https://localhost:8080/"
        },
        "id": "NAvX5H0kD883",
        "outputId": "86ca2b2d-c2b9-4e05-bd39-f3c5e3635cc6"
      },
      "execution_count": null,
      "outputs": [
        {
          "output_type": "execute_result",
          "data": {
            "text/plain": [
              "<tf.Tensor: shape=(2, 2, 3, 4), dtype=float32, numpy=\n",
              "array([[[[0.89787996, 0.13944685, 0.6851301 , 0.5092598 ],\n",
              "         [0.90597034, 0.75344586, 0.3466345 , 0.1936593 ],\n",
              "         [0.69914865, 0.41974735, 0.7310879 , 0.38692772]],\n",
              "\n",
              "        [[0.9495847 , 0.10521805, 0.11744988, 0.59081805],\n",
              "         [0.5550389 , 0.2914306 , 0.63665926, 0.94189477],\n",
              "         [0.8319882 , 0.6840172 , 0.4843198 , 0.8120154 ]]],\n",
              "\n",
              "\n",
              "       [[[0.49578738, 0.8984773 , 0.7385448 , 0.2824849 ],\n",
              "         [0.2379359 , 0.62189496, 0.6681738 , 0.19907022],\n",
              "         [0.55414915, 0.74857235, 0.92656076, 0.4343747 ]],\n",
              "\n",
              "        [[0.62351   , 0.78326523, 0.02504349, 0.77474105],\n",
              "         [0.79710686, 0.47125447, 0.44781375, 0.6942251 ],\n",
              "         [0.00844371, 0.07155478, 0.2834673 , 0.22104704]]]],\n",
              "      dtype=float32)>"
            ]
          },
          "metadata": {},
          "execution_count": 20
        }
      ]
    },
    {
      "cell_type": "code",
      "source": [
        "tf.random.uniform([1, 3], minval=-3, maxval=3)\n"
      ],
      "metadata": {
        "colab": {
          "base_uri": "https://localhost:8080/"
        },
        "id": "MvGxZkKkEMyw",
        "outputId": "21161146-aa30-4363-988f-5abd467f2c7f"
      },
      "execution_count": null,
      "outputs": [
        {
          "output_type": "execute_result",
          "data": {
            "text/plain": [
              "<tf.Tensor: shape=(1, 3), dtype=float32, numpy=array([[-1.0749464 ,  2.6919022 ,  0.82402325]], dtype=float32)>"
            ]
          },
          "metadata": {},
          "execution_count": 21
        }
      ]
    },
    {
      "cell_type": "markdown",
      "source": [
        "ones() 함수는 값이 전부 1인 텐서"
      ],
      "metadata": {
        "id": "bYgIngLoE2_i"
      }
    },
    {
      "cell_type": "code",
      "source": [
        "tf.ones([1, 3])\n"
      ],
      "metadata": {
        "colab": {
          "base_uri": "https://localhost:8080/"
        },
        "id": "6HLQ-pqRE0my",
        "outputId": "19984af6-249a-444c-aafb-f608daecfa32"
      },
      "execution_count": null,
      "outputs": [
        {
          "output_type": "execute_result",
          "data": {
            "text/plain": [
              "<tf.Tensor: shape=(1, 3), dtype=float32, numpy=array([[1., 1., 1.]], dtype=float32)>"
            ]
          },
          "metadata": {},
          "execution_count": 22
        }
      ]
    },
    {
      "cell_type": "code",
      "source": [
        "tf.zeros([1, 3])\n"
      ],
      "metadata": {
        "id": "MwLGJRnuE-VA",
        "outputId": "9593b43e-7595-4929-c424-b5543d245919",
        "colab": {
          "base_uri": "https://localhost:8080/"
        }
      },
      "execution_count": null,
      "outputs": [
        {
          "output_type": "execute_result",
          "data": {
            "text/plain": [
              "<tf.Tensor: shape=(1, 3), dtype=float32, numpy=array([[0., 0., 0.]], dtype=float32)>"
            ]
          },
          "metadata": {},
          "execution_count": 23
        }
      ]
    },
    {
      "cell_type": "code",
      "source": [
        "tf.fill([2, 3], 10)\n"
      ],
      "metadata": {
        "id": "UgsVN-1PE_PN",
        "outputId": "e075357f-bda7-46b2-923f-0c2f9e6cc18a",
        "colab": {
          "base_uri": "https://localhost:8080/"
        }
      },
      "execution_count": null,
      "outputs": [
        {
          "output_type": "execute_result",
          "data": {
            "text/plain": [
              "<tf.Tensor: shape=(2, 3), dtype=int32, numpy=\n",
              "array([[10, 10, 10],\n",
              "       [10, 10, 10]], dtype=int32)>"
            ]
          },
          "metadata": {},
          "execution_count": 24
        }
      ]
    }
  ]
}