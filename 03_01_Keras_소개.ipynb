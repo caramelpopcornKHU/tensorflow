{
  "nbformat": 4,
  "nbformat_minor": 0,
  "metadata": {
    "colab": {
      "provenance": [],
      "gpuType": "T4",
      "include_colab_link": true
    },
    "kernelspec": {
      "name": "python3",
      "display_name": "Python 3"
    },
    "language_info": {
      "name": "python"
    },
    "accelerator": "GPU"
  },
  "cells": [
    {
      "cell_type": "markdown",
      "metadata": {
        "id": "view-in-github",
        "colab_type": "text"
      },
      "source": [
        "<a href=\"https://colab.research.google.com/github/caramelpopcornKHU/tensorflow/blob/main/03_01_Keras_%EC%86%8C%EA%B0%9C.ipynb\" target=\"_parent\"><img src=\"https://colab.research.google.com/assets/colab-badge.svg\" alt=\"Open In Colab\"/></a>"
      ]
    },
    {
      "cell_type": "markdown",
      "source": [
        "![fc.svg](data:image/svg+xml;base64,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)"
      ],
      "metadata": {
        "id": "emBlXN72YDfq"
      }
    },
    {
      "cell_type": "code",
      "execution_count": 1,
      "metadata": {
        "id": "Umku-LSJPMhI"
      },
      "outputs": [],
      "source": [
        "import tensorflow as tf"
      ]
    },
    {
      "cell_type": "markdown",
      "source": [
        "keras를 이용하지 않고 Fully connected layer 구현"
      ],
      "metadata": {
        "id": "EjclynSAI9Z1"
      }
    },
    {
      "cell_type": "code",
      "source": [
        "class FullyConnectedLayer:\n",
        "    def __init__(self, input_dim, output_dim):\n",
        "        #가중치\n",
        "        self.W = tf.Variable(tf.random.normal([input_dim, output_dim]))\n",
        "        #편향\n",
        "        self.b = tf.Variable(tf.random.normal([output_dim]))\n",
        "\n",
        "    def __call__(self, x):\n",
        "        # 가중치와 값을 행렬곱 + 편향\n",
        "        return tf.matmul(x, self.W) + self.b\n",
        "\n",
        "layer = FullyConnectedLayer(8, 4)"
      ],
      "metadata": {
        "id": "J-s04UDhPcI6"
      },
      "execution_count": 2,
      "outputs": []
    },
    {
      "cell_type": "code",
      "source": [
        "import keras"
      ],
      "metadata": {
        "id": "c4zbNaM-eDBC"
      },
      "execution_count": 3,
      "outputs": []
    },
    {
      "cell_type": "markdown",
      "source": [
        "keras에서는 fully connected layer를 dense라고 함"
      ],
      "metadata": {
        "id": "8Gxsg-LJJYQa"
      }
    },
    {
      "cell_type": "code",
      "source": [
        "# fully connected layer에서 출력 차원은 4, 활성함수는 relu\n",
        "layer = keras.layers.Dense(4, activation=\"relu\")"
      ],
      "metadata": {
        "id": "hO4mJ9mOeKgY"
      },
      "execution_count": 4,
      "outputs": []
    },
    {
      "cell_type": "code",
      "source": [
        "y = layer(tf.random.normal((8,)))"
      ],
      "metadata": {
        "colab": {
          "base_uri": "https://localhost:8080/",
          "height": 304
        },
        "id": "SUZCG37Hpd24",
        "outputId": "30d2e086-e797-47cb-fd6c-83dfb6346ccc"
      },
      "execution_count": 10,
      "outputs": [
        {
          "output_type": "error",
          "ename": "ValueError",
          "evalue": "Input 0 of layer \"dense\" is incompatible with the layer: expected min_ndim=2, found ndim=1. Full shape received: (8,)",
          "traceback": [
            "\u001b[0;31m---------------------------------------------------------------------------\u001b[0m",
            "\u001b[0;31mValueError\u001b[0m                                Traceback (most recent call last)",
            "\u001b[0;32m<ipython-input-10-08af41a6af6b>\u001b[0m in \u001b[0;36m<cell line: 0>\u001b[0;34m()\u001b[0m\n\u001b[0;32m----> 1\u001b[0;31m \u001b[0my\u001b[0m \u001b[0;34m=\u001b[0m \u001b[0mlayer\u001b[0m\u001b[0;34m(\u001b[0m\u001b[0mtf\u001b[0m\u001b[0;34m.\u001b[0m\u001b[0mrandom\u001b[0m\u001b[0;34m.\u001b[0m\u001b[0mnormal\u001b[0m\u001b[0;34m(\u001b[0m\u001b[0;34m(\u001b[0m\u001b[0;36m8\u001b[0m\u001b[0;34m,\u001b[0m\u001b[0;34m)\u001b[0m\u001b[0;34m)\u001b[0m\u001b[0;34m)\u001b[0m\u001b[0;34m\u001b[0m\u001b[0;34m\u001b[0m\u001b[0m\n\u001b[0m",
            "\u001b[0;32m/usr/local/lib/python3.11/dist-packages/keras/src/utils/traceback_utils.py\u001b[0m in \u001b[0;36merror_handler\u001b[0;34m(*args, **kwargs)\u001b[0m\n\u001b[1;32m    120\u001b[0m             \u001b[0;31m# To get the full stack trace, call:\u001b[0m\u001b[0;34m\u001b[0m\u001b[0;34m\u001b[0m\u001b[0m\n\u001b[1;32m    121\u001b[0m             \u001b[0;31m# `keras.config.disable_traceback_filtering()`\u001b[0m\u001b[0;34m\u001b[0m\u001b[0;34m\u001b[0m\u001b[0m\n\u001b[0;32m--> 122\u001b[0;31m             \u001b[0;32mraise\u001b[0m \u001b[0me\u001b[0m\u001b[0;34m.\u001b[0m\u001b[0mwith_traceback\u001b[0m\u001b[0;34m(\u001b[0m\u001b[0mfiltered_tb\u001b[0m\u001b[0;34m)\u001b[0m \u001b[0;32mfrom\u001b[0m \u001b[0;32mNone\u001b[0m\u001b[0;34m\u001b[0m\u001b[0;34m\u001b[0m\u001b[0m\n\u001b[0m\u001b[1;32m    123\u001b[0m         \u001b[0;32mfinally\u001b[0m\u001b[0;34m:\u001b[0m\u001b[0;34m\u001b[0m\u001b[0;34m\u001b[0m\u001b[0m\n\u001b[1;32m    124\u001b[0m             \u001b[0;32mdel\u001b[0m \u001b[0mfiltered_tb\u001b[0m\u001b[0;34m\u001b[0m\u001b[0;34m\u001b[0m\u001b[0m\n",
            "\u001b[0;32m/usr/local/lib/python3.11/dist-packages/keras/src/layers/input_spec.py\u001b[0m in \u001b[0;36massert_input_compatibility\u001b[0;34m(input_spec, inputs, layer_name)\u001b[0m\n\u001b[1;32m    200\u001b[0m         \u001b[0;32mif\u001b[0m \u001b[0mspec\u001b[0m\u001b[0;34m.\u001b[0m\u001b[0mmin_ndim\u001b[0m \u001b[0;32mis\u001b[0m \u001b[0;32mnot\u001b[0m \u001b[0;32mNone\u001b[0m\u001b[0;34m:\u001b[0m\u001b[0;34m\u001b[0m\u001b[0;34m\u001b[0m\u001b[0m\n\u001b[1;32m    201\u001b[0m             \u001b[0;32mif\u001b[0m \u001b[0mndim\u001b[0m \u001b[0;32mis\u001b[0m \u001b[0;32mnot\u001b[0m \u001b[0;32mNone\u001b[0m \u001b[0;32mand\u001b[0m \u001b[0mndim\u001b[0m \u001b[0;34m<\u001b[0m \u001b[0mspec\u001b[0m\u001b[0;34m.\u001b[0m\u001b[0mmin_ndim\u001b[0m\u001b[0;34m:\u001b[0m\u001b[0;34m\u001b[0m\u001b[0;34m\u001b[0m\u001b[0m\n\u001b[0;32m--> 202\u001b[0;31m                 raise ValueError(\n\u001b[0m\u001b[1;32m    203\u001b[0m                     \u001b[0;34mf'Input {input_index} of layer \"{layer_name}\" '\u001b[0m\u001b[0;34m\u001b[0m\u001b[0;34m\u001b[0m\u001b[0m\n\u001b[1;32m    204\u001b[0m                     \u001b[0;34m\"is incompatible with the layer: \"\u001b[0m\u001b[0;34m\u001b[0m\u001b[0;34m\u001b[0m\u001b[0m\n",
            "\u001b[0;31mValueError\u001b[0m: Input 0 of layer \"dense\" is incompatible with the layer: expected min_ndim=2, found ndim=1. Full shape received: (8,)"
          ]
        }
      ]
    },
    {
      "cell_type": "markdown",
      "source": [
        "tensorflow와 keras에서는 batch size가 꼭 붙어줘야해.   \n",
        "그래서, 위의 1차원은 안되는 거야.   \n",
        "      \n",
        "data가 1000개   \n",
        "batch size가 100이면   \n",
        "iteration이 10번"
      ],
      "metadata": {
        "id": "_EjoK-lQr6wM"
      }
    },
    {
      "cell_type": "markdown",
      "source": [
        "위에 dense layer에 출력차원까지 설정한 객채를 만들었는대, 입력이 없네?    \n",
        "입력을 만들어서 넣어야지...     \n",
        "8차원의 input을 넣고 layer 객체 통과해서 y가 나오게 해볼게"
      ],
      "metadata": {
        "id": "HWwGHUh-KBDU"
      }
    },
    {
      "cell_type": "markdown",
      "source": [
        "\n",
        "\n",
        "```\n",
        "layer = keras.layers.Dense(4, activation=\"relu\")\n",
        "```   \n",
        "출력이 4입니다\n",
        "\n"
      ],
      "metadata": {
        "id": "_7bqXxG9s64t"
      }
    },
    {
      "cell_type": "code",
      "source": [
        "tf.random.normal((2,8))"
      ],
      "metadata": {
        "colab": {
          "base_uri": "https://localhost:8080/"
        },
        "id": "JKhitjsitjrz",
        "outputId": "07fb0b2b-881d-4228-871e-e1e360827009"
      },
      "execution_count": 12,
      "outputs": [
        {
          "output_type": "execute_result",
          "data": {
            "text/plain": [
              "<tf.Tensor: shape=(2, 8), dtype=float32, numpy=\n",
              "array([[ 2.0530035 ,  0.6641974 , -0.73751724,  0.28468013,  1.6087947 ,\n",
              "        -0.26025814, -0.8039147 , -1.196801  ],\n",
              "       [-0.14921516,  0.7299904 , -1.4554627 ,  0.23227817, -0.23816875,\n",
              "        -0.24932392,  0.21906053,  0.46072653]], dtype=float32)>"
            ]
          },
          "metadata": {},
          "execution_count": 12
        }
      ]
    },
    {
      "cell_type": "code",
      "source": [
        "x = tf.random.normal([2, 8])\n",
        "y = layer(x)\n",
        "y"
      ],
      "metadata": {
        "colab": {
          "base_uri": "https://localhost:8080/"
        },
        "id": "Nw1hHaVHe5sy",
        "outputId": "27f28115-78bc-4cf3-ee04-8ec76c57b590"
      },
      "execution_count": 13,
      "outputs": [
        {
          "output_type": "execute_result",
          "data": {
            "text/plain": [
              "<tf.Tensor: shape=(2, 4), dtype=float32, numpy=\n",
              "array([[0.        , 0.92051005, 0.        , 0.        ],\n",
              "       [0.        , 0.06592271, 0.        , 0.98965514]], dtype=float32)>"
            ]
          },
          "metadata": {},
          "execution_count": 13
        }
      ]
    },
    {
      "cell_type": "code",
      "source": [],
      "metadata": {
        "id": "HTFay0IWfnd-"
      },
      "execution_count": null,
      "outputs": []
    }
  ]
}