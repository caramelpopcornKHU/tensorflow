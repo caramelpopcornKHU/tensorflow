{
  "nbformat": 4,
  "nbformat_minor": 0,
  "metadata": {
    "colab": {
      "provenance": [],
      "gpuType": "T4",
      "include_colab_link": true
    },
    "kernelspec": {
      "name": "python3",
      "display_name": "Python 3"
    },
    "language_info": {
      "name": "python"
    },
    "accelerator": "GPU"
  },
  "cells": [
    {
      "cell_type": "markdown",
      "metadata": {
        "id": "view-in-github",
        "colab_type": "text"
      },
      "source": [
        "<a href=\"https://colab.research.google.com/github/caramelpopcornKHU/tensorflow/blob/main/02_04_Dataset_%EC%95%8C%EC%95%84%EB%B3%B4%EA%B8%B0.ipynb\" target=\"_parent\"><img src=\"https://colab.research.google.com/assets/colab-badge.svg\" alt=\"Open In Colab\"/></a>"
      ]
    },
    {
      "cell_type": "code",
      "execution_count": 1,
      "metadata": {
        "id": "Dp0IlwQt4fBP"
      },
      "outputs": [],
      "source": [
        "import numpy as np\n",
        "import tensorflow as tf"
      ]
    },
    {
      "cell_type": "code",
      "source": [
        "x = np.array([0, 1, 2, 3, 4])"
      ],
      "metadata": {
        "id": "TN6sdkDP5SRB"
      },
      "execution_count": 2,
      "outputs": []
    },
    {
      "cell_type": "markdown",
      "source": [
        "dataset 객체를 Dataset.from_tensor_slices함수로 만드면됨"
      ],
      "metadata": {
        "id": "3QbHlVpXUd_j"
      }
    },
    {
      "cell_type": "code",
      "source": [
        "dataset = tf.data.Dataset.from_tensor_slices(x)"
      ],
      "metadata": {
        "id": "Zgp7yl9H9Bx0"
      },
      "execution_count": 3,
      "outputs": []
    },
    {
      "cell_type": "code",
      "source": [
        "for data in dataset:\n",
        "    print(data)"
      ],
      "metadata": {
        "colab": {
          "base_uri": "https://localhost:8080/"
        },
        "id": "YD5_FT_39K4K",
        "outputId": "978232b0-6149-4e91-b21d-acf5751fc21d"
      },
      "execution_count": 4,
      "outputs": [
        {
          "output_type": "stream",
          "name": "stdout",
          "text": [
            "tf.Tensor(0, shape=(), dtype=int64)\n",
            "tf.Tensor(1, shape=(), dtype=int64)\n",
            "tf.Tensor(2, shape=(), dtype=int64)\n",
            "tf.Tensor(3, shape=(), dtype=int64)\n",
            "tf.Tensor(4, shape=(), dtype=int64)\n"
          ]
        }
      ]
    },
    {
      "cell_type": "code",
      "source": [
        "x = [[10, 20],\n",
        "     [20, 15],\n",
        "     [15, 15],\n",
        "     [80, 90],\n",
        "     [85, 80],\n",
        "     [85, 90]]"
      ],
      "metadata": {
        "id": "by2Qrzhy9dzx"
      },
      "execution_count": 5,
      "outputs": []
    },
    {
      "cell_type": "code",
      "source": [
        "dataset = tf.data.Dataset.from_tensor_slices(x)"
      ],
      "metadata": {
        "id": "_3gQ1srb9y-f"
      },
      "execution_count": 6,
      "outputs": []
    },
    {
      "cell_type": "code",
      "source": [
        "for data in dataset:\n",
        "    print(data)"
      ],
      "metadata": {
        "colab": {
          "base_uri": "https://localhost:8080/"
        },
        "id": "gCJVQZRK93Ia",
        "outputId": "4977b5be-8b37-4505-d64a-865fb241d8d7"
      },
      "execution_count": 7,
      "outputs": [
        {
          "output_type": "stream",
          "name": "stdout",
          "text": [
            "tf.Tensor([10 20], shape=(2,), dtype=int32)\n",
            "tf.Tensor([20 15], shape=(2,), dtype=int32)\n",
            "tf.Tensor([15 15], shape=(2,), dtype=int32)\n",
            "tf.Tensor([80 90], shape=(2,), dtype=int32)\n",
            "tf.Tensor([85 80], shape=(2,), dtype=int32)\n",
            "tf.Tensor([85 90], shape=(2,), dtype=int32)\n"
          ]
        }
      ]
    },
    {
      "cell_type": "code",
      "source": [
        "x = [[10, 20],\n",
        "     [20, 15],\n",
        "     [15, 15],\n",
        "     [80, 90],\n",
        "     [85, 80],\n",
        "     [85, 90]]\n",
        "\n",
        "y = [0, 0, 0, 1, 1, 1]"
      ],
      "metadata": {
        "id": "5jQ7qOTI987F"
      },
      "execution_count": 8,
      "outputs": []
    },
    {
      "cell_type": "markdown",
      "source": [
        "x리스트 y리스트를 튜플로 묶어서 넘기기"
      ],
      "metadata": {
        "id": "LYYASkGHU7yS"
      }
    },
    {
      "cell_type": "code",
      "source": [
        "dataset = tf.data.Dataset.from_tensor_slices((x, y))"
      ],
      "metadata": {
        "id": "QZqDZyRK-tGm"
      },
      "execution_count": 9,
      "outputs": []
    },
    {
      "cell_type": "markdown",
      "source": [
        "동일한 인덱스에서 x와 y가 묶여있음"
      ],
      "metadata": {
        "id": "dMqypcRYU2IS"
      }
    },
    {
      "cell_type": "code",
      "source": [
        "for data in dataset:\n",
        "    print(data)"
      ],
      "metadata": {
        "colab": {
          "base_uri": "https://localhost:8080/"
        },
        "id": "whcz005G_CVv",
        "outputId": "70cf7cd1-8243-484c-de43-250402419efb"
      },
      "execution_count": 10,
      "outputs": [
        {
          "output_type": "stream",
          "name": "stdout",
          "text": [
            "(<tf.Tensor: shape=(2,), dtype=int32, numpy=array([10, 20], dtype=int32)>, <tf.Tensor: shape=(), dtype=int32, numpy=0>)\n",
            "(<tf.Tensor: shape=(2,), dtype=int32, numpy=array([20, 15], dtype=int32)>, <tf.Tensor: shape=(), dtype=int32, numpy=0>)\n",
            "(<tf.Tensor: shape=(2,), dtype=int32, numpy=array([15, 15], dtype=int32)>, <tf.Tensor: shape=(), dtype=int32, numpy=0>)\n",
            "(<tf.Tensor: shape=(2,), dtype=int32, numpy=array([80, 90], dtype=int32)>, <tf.Tensor: shape=(), dtype=int32, numpy=1>)\n",
            "(<tf.Tensor: shape=(2,), dtype=int32, numpy=array([85, 80], dtype=int32)>, <tf.Tensor: shape=(), dtype=int32, numpy=1>)\n",
            "(<tf.Tensor: shape=(2,), dtype=int32, numpy=array([85, 90], dtype=int32)>, <tf.Tensor: shape=(), dtype=int32, numpy=1>)\n"
          ]
        }
      ]
    },
    {
      "cell_type": "code",
      "source": [
        "for data in dataset:\n",
        "    print(f\"x: {data[0]}, y: {data[1]}\")"
      ],
      "metadata": {
        "colab": {
          "base_uri": "https://localhost:8080/"
        },
        "id": "AH999PMb_Jzo",
        "outputId": "a5054d63-baf4-4550-8f39-bd9d27361dbd"
      },
      "execution_count": 11,
      "outputs": [
        {
          "output_type": "stream",
          "name": "stdout",
          "text": [
            "x: [10 20], y: 0\n",
            "x: [20 15], y: 0\n",
            "x: [15 15], y: 0\n",
            "x: [80 90], y: 1\n",
            "x: [85 80], y: 1\n",
            "x: [85 90], y: 1\n"
          ]
        }
      ]
    },
    {
      "cell_type": "code",
      "source": [
        "import keras"
      ],
      "metadata": {
        "id": "bv3qhq0v_nnk"
      },
      "execution_count": 12,
      "outputs": []
    },
    {
      "cell_type": "code",
      "source": [
        "train_data, test_data = keras.datasets.california_housing.load_data()\n",
        "\n",
        "x_train, y_train = train_data\n",
        "x_test, y_test = test_data"
      ],
      "metadata": {
        "colab": {
          "base_uri": "https://localhost:8080/"
        },
        "id": "FdgH9r5qAFdV",
        "outputId": "7451cf9a-39ea-4ada-b25e-833ca8ba3265"
      },
      "execution_count": 13,
      "outputs": [
        {
          "output_type": "stream",
          "name": "stdout",
          "text": [
            "Downloading data from https://storage.googleapis.com/tensorflow/tf-keras-datasets/california_housing.npz\n",
            "\u001b[1m743530/743530\u001b[0m \u001b[32m━━━━━━━━━━━━━━━━━━━━\u001b[0m\u001b[37m\u001b[0m \u001b[1m1s\u001b[0m 1us/step\n"
          ]
        }
      ]
    },
    {
      "cell_type": "code",
      "source": [
        "train_data"
      ],
      "metadata": {
        "colab": {
          "base_uri": "https://localhost:8080/"
        },
        "id": "xXifEsrHj8LO",
        "outputId": "54db7830-e0dd-4e92-9e8a-51f2c978d7a2"
      },
      "execution_count": 22,
      "outputs": [
        {
          "output_type": "execute_result",
          "data": {
            "text/plain": [
              "(<tf.Tensor: shape=(8,), dtype=float32, numpy=\n",
              " array([-118.27  ,   34.09  ,   52.    , 2327.    ,  555.    , 1048.    ,\n",
              "         491.    ,    3.7847], dtype=float32)>,\n",
              " <tf.Tensor: shape=(), dtype=float32, numpy=252300.0>)"
            ]
          },
          "metadata": {},
          "execution_count": 22
        }
      ]
    },
    {
      "cell_type": "code",
      "source": [
        "x_train"
      ],
      "metadata": {
        "colab": {
          "base_uri": "https://localhost:8080/"
        },
        "id": "l8VRbzlRkB3C",
        "outputId": "92f94a69-9f71-4cd6-b252-f12753fd24ee"
      },
      "execution_count": 23,
      "outputs": [
        {
          "output_type": "execute_result",
          "data": {
            "text/plain": [
              "array([[-118.27  ,   34.09  ,   52.    , ..., 1048.    ,  491.    ,\n",
              "           3.7847],\n",
              "       [-118.36  ,   33.96  ,   21.    , ..., 1286.    ,  557.    ,\n",
              "           2.7284],\n",
              "       [-122.39  ,   37.76  ,   52.    , ...,  712.    ,  398.    ,\n",
              "           3.9722],\n",
              "       ...,\n",
              "       [-122.34  ,   37.57  ,   52.    , ...,  876.    ,  359.    ,\n",
              "           8.2598],\n",
              "       [-122.18  ,   37.89  ,   18.    , ..., 1634.    ,  734.    ,\n",
              "           8.1489],\n",
              "       [-118.43  ,   34.2   ,   29.    , ..., 1942.    ,  679.    ,\n",
              "           3.1118]], dtype=float32)"
            ]
          },
          "metadata": {},
          "execution_count": 23
        }
      ]
    },
    {
      "cell_type": "code",
      "source": [
        "(x_train, y_train), (x_test, y_test) = keras.datasets.california_housing.load_data()"
      ],
      "metadata": {
        "id": "K9Ea7aajAsrW"
      },
      "execution_count": 14,
      "outputs": []
    },
    {
      "cell_type": "code",
      "source": [
        "x_train[0]"
      ],
      "metadata": {
        "colab": {
          "base_uri": "https://localhost:8080/"
        },
        "id": "WfzSREebA8og",
        "outputId": "2d546ea3-b255-4a0d-bc9f-bdc620fde9da"
      },
      "execution_count": 15,
      "outputs": [
        {
          "output_type": "execute_result",
          "data": {
            "text/plain": [
              "array([-118.27  ,   34.09  ,   52.    , 2327.    ,  555.    , 1048.    ,\n",
              "        491.    ,    3.7847], dtype=float32)"
            ]
          },
          "metadata": {},
          "execution_count": 15
        }
      ]
    },
    {
      "cell_type": "code",
      "source": [
        "y_train[0]"
      ],
      "metadata": {
        "colab": {
          "base_uri": "https://localhost:8080/"
        },
        "id": "Rcjy8_rWBEwb",
        "outputId": "cb8f174b-3e2d-4015-e50a-2cfc195e0d4f"
      },
      "execution_count": 16,
      "outputs": [
        {
          "output_type": "execute_result",
          "data": {
            "text/plain": [
              "np.float32(252300.0)"
            ]
          },
          "metadata": {},
          "execution_count": 16
        }
      ]
    },
    {
      "cell_type": "code",
      "source": [
        "train_dataset = tf.data.Dataset.from_tensor_slices((x_train, y_train))"
      ],
      "metadata": {
        "id": "zh3g95DDBUA0"
      },
      "execution_count": 17,
      "outputs": []
    },
    {
      "cell_type": "code",
      "source": [
        "for train_data in train_dataset:\n",
        "    print(train_data)\n",
        "    break"
      ],
      "metadata": {
        "colab": {
          "base_uri": "https://localhost:8080/"
        },
        "id": "a9fT3kUYCFIN",
        "outputId": "7e7cd3e3-ac78-4583-a4f6-d0e174309d57"
      },
      "execution_count": 18,
      "outputs": [
        {
          "output_type": "stream",
          "name": "stdout",
          "text": [
            "(<tf.Tensor: shape=(8,), dtype=float32, numpy=\n",
            "array([-118.27  ,   34.09  ,   52.    , 2327.    ,  555.    , 1048.    ,\n",
            "        491.    ,    3.7847], dtype=float32)>, <tf.Tensor: shape=(), dtype=float32, numpy=252300.0>)\n"
          ]
        }
      ]
    },
    {
      "cell_type": "code",
      "source": [
        "x = [1,2,3,4,5]\n",
        "y = [-1,-2,-3,-4,-5]\n",
        "(x,y)"
      ],
      "metadata": {
        "id": "FUC7aWLRC9Ds",
        "colab": {
          "base_uri": "https://localhost:8080/"
        },
        "outputId": "35784c4b-c2fb-462e-9ba0-eed7d4021234"
      },
      "execution_count": 19,
      "outputs": [
        {
          "output_type": "execute_result",
          "data": {
            "text/plain": [
              "([1, 2, 3, 4, 5], [-1, -2, -3, -4, -5])"
            ]
          },
          "metadata": {},
          "execution_count": 19
        }
      ]
    },
    {
      "cell_type": "code",
      "source": [
        "dataset = tf.data.Dataset.from_tensor_slices((x,y))"
      ],
      "metadata": {
        "id": "iDRIZgDEZLZb"
      },
      "execution_count": 20,
      "outputs": []
    },
    {
      "cell_type": "code",
      "source": [
        "for data in dataset:\n",
        "    print(f\"{data[0].numpy()}, {data[1].numpy()}\")"
      ],
      "metadata": {
        "colab": {
          "base_uri": "https://localhost:8080/"
        },
        "id": "J1sABCM0ZRwi",
        "outputId": "f405046b-cd6b-42f0-8b1f-31eeca932d62"
      },
      "execution_count": 21,
      "outputs": [
        {
          "output_type": "stream",
          "name": "stdout",
          "text": [
            "1, -1\n",
            "2, -2\n",
            "3, -3\n",
            "4, -4\n",
            "5, -5\n"
          ]
        }
      ]
    },
    {
      "cell_type": "code",
      "source": [],
      "metadata": {
        "id": "I5hIjsZLZZGa"
      },
      "execution_count": null,
      "outputs": []
    }
  ]
}